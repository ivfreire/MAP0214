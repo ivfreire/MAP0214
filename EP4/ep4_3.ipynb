{
 "cells": [
  {
   "cell_type": "code",
   "execution_count": 143,
   "metadata": {},
   "outputs": [],
   "source": [
    "import numpy as np\n",
    "import matplotlib.pyplot as plt"
   ]
  },
  {
   "cell_type": "code",
   "execution_count": 167,
   "metadata": {},
   "outputs": [],
   "source": [
    "w = 1\n",
    "h = 0.01"
   ]
  },
  {
   "cell_type": "code",
   "execution_count": 168,
   "metadata": {},
   "outputs": [],
   "source": [
    "def g(t, x, v): return (1/2) * (x - x**3) - 0.25 * v + F * np.cos(w * t)"
   ]
  },
  {
   "cell_type": "code",
   "execution_count": 202,
   "metadata": {},
   "outputs": [],
   "source": [
    "data = [[], []]\n",
    "\n",
    "for F in np.arange(0.15, 0.25, 0.001):\n",
    "    t = 0\n",
    "    x = 1\n",
    "    v = -1\n",
    "    h = 0.1 * 2 * np.pi / w\n",
    "\n",
    "    for i in range(2000):\n",
    "        k1x = h * v\n",
    "        k1v = h * g(t, x, v)\n",
    "        k2x = h * (v + k1v / 2)\n",
    "        k2v = h * g(t + h / 2, x + k1x / 2, v + k1v / 2)\n",
    "        k3x = h * (v + k2v / 2)\n",
    "        k3v = h * g(t + h / 2, x + k2x / 2, v + k2v / 2)\n",
    "        k4x = h * (v + k3v)\n",
    "        k4v = h * g(t + h, x + k3x, v + k3v)\n",
    "\n",
    "        x += (k1x + 2 * k2x + 2 * k3x + k4x) / 6\n",
    "        v += (k1v + 2 * k2v + 2 * k3v + k4v) / 6\n",
    "        t += h\n",
    "        \n",
    "    h = 0.1 * 2 * np.pi / w\n",
    "    \n",
    "    for i in range(100):\n",
    "        for j in range(10):\n",
    "            k1x = h * v\n",
    "            k1v = h * g(t, x, v)\n",
    "            k2x = h * (v + k1v / 2)\n",
    "            k2v = h * g(t + h / 2, x + k1x / 2, v + k1v / 2)\n",
    "            k3x = h * (v + k2v / 2)\n",
    "            k3v = h * g(t + h / 2, x + k2x / 2, v + k2v / 2)\n",
    "            k4x = h * (v + k3v)\n",
    "            k4v = h * g(t + h, x + k3x, v + k3v)\n",
    "\n",
    "            x += (k1x + 2 * k2x + 2 * k3x + k4x) / 6\n",
    "            v += (k1v + 2 * k2v + 2 * k3v + k4v) / 6\n",
    "            t += h\n",
    "        \n",
    "        data[0].append(F)\n",
    "        data[1].append(x)"
   ]
  },
  {
   "cell_type": "code",
   "execution_count": 203,
   "metadata": {},
   "outputs": [
    {
     "data": {
      "image/png": "[encoded data removed]",
      "text/plain": [
       "<Figure size 432x288 with 1 Axes>"
      ]
     },
     "metadata": {
      "needs_background": "light"
     },
     "output_type": "display_data"
    }
   ],
   "source": [
    "# plt.figure(figsize=(32, 24))\n",
    "plt.scatter(data[0], data[1], marker='+')\n",
    "plt.title('Diagrama de Bifurcação')\n",
    "plt.xlabel('F')\n",
    "plt.ylabel('x')\n",
    "# plt.savefig('ep4_bifurcation_diagram')\n",
    "plt.show()"
   ]
  },
  {
   "cell_type": "code",
   "execution_count": null,
   "metadata": {},
   "outputs": [],
   "source": []
  },
  {
   "cell_type": "code",
   "execution_count": null,
   "metadata": {},
   "outputs": [],
   "source": []
  }
 ],
 "metadata": {
  "kernelspec": {
   "display_name": "Python 3",
   "language": "python",
   "name": "python3"
  },
  "language_info": {
   "codemirror_mode": {
    "name": "ipython",
    "version": 3
   },
   "file_extension": ".py",
   "mimetype": "text/x-python",
   "name": "python",
   "nbconvert_exporter": "python",
   "pygments_lexer": "ipython3",
   "version": "3.8.6"
  }
 },
 "nbformat": 4,
 "nbformat_minor": 4
}
