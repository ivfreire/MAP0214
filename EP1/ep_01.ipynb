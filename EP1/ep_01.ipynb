{
 "cells": [
  {
   "cell_type": "markdown",
   "metadata": {},
   "source": [
    "# Exercício Programa 01\n",
    "\n",
    "## Cálculo Numérico com Aplicações em Física\n",
    "\n",
    "EP apresentado ao curso de Cálculo Numérico (MAP214) ministrado pelo Prof. Dr. Arnaldo Gammal em 2020/2."
   ]
  },
  {
   "cell_type": "markdown",
   "metadata": {},
   "source": [
    "### Item a:"
   ]
  },
  {
   "cell_type": "code",
   "execution_count": 19,
   "metadata": {},
   "outputs": [],
   "source": [
    "# Importamos os módulos que usaremos para este EP\n",
    "import numpy as np\n",
    "import matplotlib.pyplot as plt"
   ]
  },
  {
   "cell_type": "code",
   "execution_count": 20,
   "metadata": {},
   "outputs": [],
   "source": [
    "# Definimos a função que queremos resolver numericamente\n",
    "def func(x):\n",
    "    return x**3 - np.cos(x)"
   ]
  },
  {
   "cell_type": "markdown",
   "metadata": {},
   "source": [
    "Para aplicarmos o método da bissecção para encontrar as raízes da função, primeiro, devemos achar em quais intervalos da função existe solução. Faremos isso para intervalos próximo de 0:"
   ]
  },
  {
   "cell_type": "code",
   "execution_count": 21,
   "metadata": {},
   "outputs": [],
   "source": [
    "# Geramos intervalos entre -10 e 10 de lagura 1\n",
    "intervals = np.arange(-10, 10, 1)\n",
    "\n",
    "# Verficamos em qual dele há raízes\n",
    "intervals_found = []\n",
    "for i in range(len(intervals) - 1):\n",
    "    if func(intervals[i]) * func(intervals[i + 1]) < 0:\n",
    "        intervals_found.append([intervals[i], intervals[i + 1]])"
   ]
  },
  {
   "cell_type": "code",
   "execution_count": 22,
   "metadata": {},
   "outputs": [
    {
     "data": {
      "text/plain": [
       "[[0, 1]]"
      ]
     },
     "execution_count": 22,
     "metadata": {},
     "output_type": "execute_result"
    }
   ],
   "source": [
    "intervals_found"
   ]
  },
  {
   "cell_type": "code",
   "execution_count": 23,
   "metadata": {},
   "outputs": [
    {
     "name": "stdout",
     "output_type": "stream",
     "text": [
      "x1\tx2\txm\tf(x1)\tf(x2)\tf(xm)\t|x2-x1|\n",
      "0\t1\t0.5\t-1.0\t0.45969769413186023\t-0.7525825618903728\t1\n",
      "0.5\t1\t0.75\t-0.7525825618903728\t0.45969769413186023\t-0.3098138688738209\t0.5\n",
      "0.75\t1\t0.875\t-0.3098138688738209\t0.45969769413186023\t0.02892501683667492\t0.25\n",
      "0.75\t0.875\t0.8125\t-0.3098138688738209\t0.02892501683667492\t-0.1513086090955048\t0.125\n",
      "0.8125\t0.875\t0.84375\t-0.1513086090955048\t0.02892501683667492\t-0.0639882373592583\t0.0625\n",
      "0.84375\t0.875\t0.859375\t-0.0639882373592583\t0.02892501683667492\t-0.01824073473747645\t0.03125\n",
      "0.859375\t0.875\t0.8671875\t-0.01824073473747645\t0.02892501683667492\t0.005163610306846089\t0.015625\n",
      "0.859375\t0.8671875\t0.86328125\t-0.01824073473747645\t0.005163610306846089\t-0.006583038792791651\t0.0078125\n",
      "0.86328125\t0.8671875\t0.865234375\t-0.006583038792791651\t0.005163610306846089\t-0.0007208529067607161\t0.00390625\n",
      "0.865234375\t0.8671875\t0.8662109375\t-0.0007208529067607161\t0.005163610306846089\t0.002218591594685071\t0.001953125\n",
      "0.865234375\t0.8662109375\t0.86572265625\t-0.0007208529067607161\t0.002218591594685071\t0.0007481728725260428\t0.0009765625\n",
      "0.865234375\t0.86572265625\t0.865478515625\t-0.0007208529067607161\t0.0007481728725260428\t1.348590313865472e-05\t0.00048828125\n",
      "0.865234375\t0.865478515625\t0.8653564453125\t-0.0007208529067607161\t1.348590313865472e-05\t-0.0003537270169825524\t0.000244140625\n",
      "0.8653564453125\t0.865478515625\t0.86541748046875\t-0.0003537270169825524\t1.348590313865472e-05\t-0.0001701314363103945\t0.0001220703125\n",
      "Raíz entre: [0.86541748046875, 0.865478515625]\n"
     ]
    }
   ],
   "source": [
    "# Aplicamos o método da bissecção nos intervalos encotrados\n",
    "epsolon = 0.0001\n",
    "for interval in intervals_found:\n",
    "    x1 = interval[0]\n",
    "    x2 = interval[1]\n",
    "    print('{}\\t{}\\t{}\\t{}\\t{}\\t{}\\t{}'.format('x1', 'x2', 'xm', 'f(x1)', 'f(x2)', 'f(xm)', '|x2-x1|'))\n",
    "    while np.abs(x2 - x1) > epsolon:\n",
    "        xm = (x1 + x2) / 2\n",
    "        print('{}\\t{}\\t{}\\t{}\\t{}\\t{}\\t{}'.format(x1, x2, xm, func(x1), func(x2), func(xm), np.abs(x2- x1)))\n",
    "        if func(x1) * func(xm) > 0: x1 = xm\n",
    "        if func(x2) * func(xm) > 0: x2 = xm\n",
    "    print('Raíz entre: {}'.format([x1, x2]))"
   ]
  },
  {
   "cell_type": "markdown",
   "metadata": {},
   "source": [
    "### Item b:"
   ]
  },
  {
   "cell_type": "markdown",
   "metadata": {},
   "source": [
    "Encontraremos as raízes da função novamente, porém desta vez utilizando o método de Newton-Raphson."
   ]
  },
  {
   "cell_type": "code",
   "execution_count": 24,
   "metadata": {},
   "outputs": [],
   "source": [
    "# Definimos analiticamente a derivada função e a adicionamos na forma de uma nova função\n",
    "def der_func(x):\n",
    "    return 3 * x**2 + np.sin(x)"
   ]
  },
  {
   "cell_type": "code",
   "execution_count": 25,
   "metadata": {},
   "outputs": [
    {
     "name": "stdout",
     "output_type": "stream",
     "text": [
      "n x_n f(x_n) df(x_n)\n",
      "1 7.75599636 466.46785180 181.46164190\n",
      "2 5.18538228 138.96998777 79.77435948\n",
      "3 3.44334400 41.78123165 35.27266087\n",
      "4 2.25882232 12.16015351 16.07933583\n",
      "5 1.50256263 3.32414655 7.77075635\n",
      "6 1.07478618 0.76563543 4.34498441\n",
      "7 0.89857486 0.10281671 3.20475058\n",
      "8 0.86649227 0.00306643 3.01448892\n",
      "9 0.86547504 0.00000302 3.00854443\n",
      "10 0.86547403 0.00000000 3.00853856\n"
     ]
    }
   ],
   "source": [
    "# Iteramos pela definição de x no método de Newton-Raphson\n",
    "x = 0.1\n",
    "print('{} {} {} {}'.format('n', 'x_n', 'f(x_n)', 'df(x_n)'))\n",
    "for i in range(10):\n",
    "    x = x - func(x) / der_func(x)\n",
    "    print('{} {:.8f} {:.8f} {:.8f}'.format(i+1, x, func(x), der_func(x)))"
   ]
  },
  {
   "cell_type": "markdown",
   "metadata": {},
   "source": [
    "### Item c:"
   ]
  },
  {
   "cell_type": "code",
   "execution_count": 26,
   "metadata": {},
   "outputs": [],
   "source": [
    "# Definimos as constantes que usaremos para montar as funções:\n",
    "const = 14.4    # eV A\n",
    "V_0 = 1.09E3   # eV\n",
    "r_0 = 0.330     # A"
   ]
  },
  {
   "cell_type": "code",
   "execution_count": 27,
   "metadata": {},
   "outputs": [],
   "source": [
    "# Calculamos o potencial\n",
    "r = np.arange(0.1, 10, 1E-2)\n",
    "u = -const/r + V_0*np.exp(-r/r_0)"
   ]
  },
  {
   "cell_type": "code",
   "execution_count": 28,
   "metadata": {},
   "outputs": [
    {
     "data": {
      "image/png": "[encoded data removed]",
      "text/plain": [
       "<Figure size 432x288 with 1 Axes>"
      ]
     },
     "metadata": {
      "needs_background": "light"
     },
     "output_type": "display_data"
    }
   ],
   "source": [
    "plt.plot(r, u)\n",
    "plt.title('Potencial versus distância')\n",
    "plt.xlabel('Distância / [A]')\n",
    "plt.ylabel('Energia potencial / [eV]')\n",
    "plt.xlim(0, 10)\n",
    "plt.ylim(-6, 4)\n",
    "plt.grid(True)\n",
    "plt.show()"
   ]
  },
  {
   "cell_type": "code",
   "execution_count": 29,
   "metadata": {},
   "outputs": [],
   "source": [
    "# Calculamos a força\n",
    "f = -const/r**2 + V_0*np.exp(-r/r_0)/r_0"
   ]
  },
  {
   "cell_type": "code",
   "execution_count": 30,
   "metadata": {},
   "outputs": [
    {
     "data": {
      "image/png": "[encoded data removed]",
      "text/plain": [
       "<Figure size 432x288 with 1 Axes>"
      ]
     },
     "metadata": {
      "needs_background": "light"
     },
     "output_type": "display_data"
    }
   ],
   "source": [
    "plt.plot(r, f)\n",
    "plt.title('Força versus distância')\n",
    "plt.xlabel('Distância / [A]')\n",
    "plt.ylabel('Força / [eV/A]')\n",
    "plt.xlim(0, 10)\n",
    "plt.ylim(-2, 10)\n",
    "plt.grid(True)\n",
    "plt.show()"
   ]
  },
  {
   "cell_type": "code",
   "execution_count": 14,
   "metadata": {},
   "outputs": [],
   "source": [
    "# Definimos a função da força\n",
    "def f(x):\n",
    "    return -const/x**2 + V_0*np.exp(-x/r_0)/r_0"
   ]
  },
  {
   "cell_type": "code",
   "execution_count": 17,
   "metadata": {},
   "outputs": [
    {
     "name": "stdout",
     "output_type": "stream",
     "text": [
      "n x_n f(x_n) x_n-1 f(x_n-1)\n",
      "1 -0.12601420217775 3932.14327263901851 0.10000000000000 999.54127048936357\n",
      "2 0.17703415691178 1472.18664437512939 -0.12601420217775 3932.14327263901851\n",
      "3 0.35839660116196 1002.82069134649714 0.17703415691178 1472.18664437512939\n",
      "4 0.74588531983383 318.70048726858028 0.35839660116196 1002.82069134649714\n",
      "5 0.92639868972948 182.62376732486189 0.74588531983383 318.70048726858028\n",
      "6 1.16865931797275 85.15506092295941 0.92639868972948 182.62376732486189\n",
      "7 1.38031410768778 42.83365885400429 1.16865931797275 85.15506092295941\n",
      "8 1.59453075964790 20.66569422607774 1.38031410768778 42.83365885400429\n",
      "9 1.79423045701953 9.90254486726063 1.59453075964790 20.66569422607774\n",
      "10 1.97796248073068 4.55743550150028 1.79423045701953 9.90254486726063\n",
      "11 2.13461911585729 1.96434988225805 1.97796248073068 4.55743550150028\n",
      "12 2.25329180467341 0.74055325650508 2.13461911585729 1.96434988225805\n",
      "13 2.32510393776122 0.21357081441246 2.25329180467341 0.74055325650508\n",
      "14 2.35420732816520 0.03614049885690 2.32510393776122 0.21357081441246\n",
      "15 2.36013535148147 0.00227601346816 2.35420732816520 0.03614049885690\n",
      "16 2.36053377067351 0.00002659179326 2.36013535148147 0.00227601346816\n",
      "17 2.36053848063114 0.00000001989596 2.36053377067351 0.00002659179326\n",
      "18 2.36053848415776 0.00000000000018 2.36053848063114 0.00000001989596\n",
      "19 2.36053848415779 0.00000000000000 2.36053848415776 0.00000000000018\n",
      "20 2.36053848415779 0.00000000000000 2.36053848415779 0.00000000000000\n"
     ]
    }
   ],
   "source": [
    "# Aplicamos o método das secantes para encontrar o ponto onde a força é nula\n",
    "'''\n",
    "    x[0] -> x_n\n",
    "    x[1] -> x_(n-1)\n",
    "'''\n",
    "x = (0.1, 0.2)\n",
    "print('{} {} {} {} {}'.format('n', 'x_n', 'f(x_n)', 'x_n-1', 'f(x_n-1)'))\n",
    "for i in range(20):\n",
    "    x = (x[0] - f(x[0])*(x[0]-x[1])/(f(x[0])-f(x[1])), x[0])\n",
    "    print('{} {:.14f} {:.14f} {:.14f} {:.14f}'.format(i+1, x[0], f(x[0]), x[1], f(x[1])))"
   ]
  },
  {
   "cell_type": "markdown",
   "metadata": {},
   "source": [
    "Portanto, a distância de equilíbrio é: r_eq = 2.36 A"
   ]
  }
 ],
 "metadata": {
  "kernelspec": {
   "display_name": "Python 3",
   "language": "python",
   "name": "python3"
  },
  "language_info": {
   "codemirror_mode": {
    "name": "ipython",
    "version": 3
   },
   "file_extension": ".py",
   "mimetype": "text/x-python",
   "name": "python",
   "nbconvert_exporter": "python",
   "pygments_lexer": "ipython3",
   "version": "3.8.5"
  }
 },
 "nbformat": 4,
 "nbformat_minor": 4
}
